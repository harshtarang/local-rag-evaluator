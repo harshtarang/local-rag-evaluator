{
 "cells": [
  {
   "cell_type": "code",
   "execution_count": 97,
   "metadata": {},
   "outputs": [
    {
     "data": {
      "text/html": [
       "<div>\n",
       "<style scoped>\n",
       "    .dataframe tbody tr th:only-of-type {\n",
       "        vertical-align: middle;\n",
       "    }\n",
       "\n",
       "    .dataframe tbody tr th {\n",
       "        vertical-align: top;\n",
       "    }\n",
       "\n",
       "    .dataframe thead th {\n",
       "        text-align: right;\n",
       "    }\n",
       "</style>\n",
       "<table border=\"1\" class=\"dataframe\">\n",
       "  <thead>\n",
       "    <tr style=\"text-align: right;\">\n",
       "      <th></th>\n",
       "      <th>Unnamed: 0</th>\n",
       "      <th>question</th>\n",
       "      <th>contexts</th>\n",
       "      <th>ground_truth</th>\n",
       "      <th>evolution_type</th>\n",
       "      <th>metadata</th>\n",
       "      <th>episode_done</th>\n",
       "    </tr>\n",
       "  </thead>\n",
       "  <tbody>\n",
       "    <tr>\n",
       "      <th>0</th>\n",
       "      <td>0</td>\n",
       "      <td>\"Who coordinates the university's response to...</td>\n",
       "      <td>['://www.counseling.ufl.edu/cwc/) Map (http://...</td>\n",
       "      <td>The Emergency Response team coordinates the un...</td>\n",
       "      <td>simple</td>\n",
       "      <td>[{'source': 'C:\\\\Users\\\\harsh\\\\Downloads\\\\UF d...</td>\n",
       "      <td>True</td>\n",
       "    </tr>\n",
       "    <tr>\n",
       "      <th>1</th>\n",
       "      <td>1</td>\n",
       "      <td>What can visitors to the University of Florid...</td>\n",
       "      <td>[' information sessions and walking tours of c...</td>\n",
       "      <td>Visitors to the University of Florida can expe...</td>\n",
       "      <td>simple</td>\n",
       "      <td>[{'source': 'C:\\\\Users\\\\harsh\\\\Downloads\\\\UF d...</td>\n",
       "      <td>True</td>\n",
       "    </tr>\n",
       "    <tr>\n",
       "      <th>2</th>\n",
       "      <td>2</td>\n",
       "      <td>What are the important deadlines for submitti...</td>\n",
       "      <td>['AUG 8\\n\\nNOV 1\\n\\nNOV 15\\n\\nDEC 1\\n\\nFEB 23\\...</td>\n",
       "      <td>The important deadlines for submitting applica...</td>\n",
       "      <td>simple</td>\n",
       "      <td>[{'source': 'C:\\\\Users\\\\harsh\\\\Downloads\\\\UF d...</td>\n",
       "      <td>True</td>\n",
       "    </tr>\n",
       "    <tr>\n",
       "      <th>3</th>\n",
       "      <td>3</td>\n",
       "      <td>What are the different ways students, faculty...</td>\n",
       "      <td>['ufl.edu/services/gator-1-card/)\\n\\nAll enrol...</td>\n",
       "      <td>NaN</td>\n",
       "      <td>simple</td>\n",
       "      <td>[{'source': 'C:\\\\Users\\\\harsh\\\\Downloads\\\\UF d...</td>\n",
       "      <td>True</td>\n",
       "    </tr>\n",
       "    <tr>\n",
       "      <th>4</th>\n",
       "      <td>4</td>\n",
       "      <td>What can visitors expect to experience during...</td>\n",
       "      <td>[' information sessions and walking tours of c...</td>\n",
       "      <td>Visitors to the University of Florida can expe...</td>\n",
       "      <td>simple</td>\n",
       "      <td>[{'source': 'C:\\\\Users\\\\harsh\\\\Downloads\\\\UF d...</td>\n",
       "      <td>True</td>\n",
       "    </tr>\n",
       "  </tbody>\n",
       "</table>\n",
       "</div>"
      ],
      "text/plain": [
       "   Unnamed: 0                                           question  \\\n",
       "0           0   \"Who coordinates the university's response to...   \n",
       "1           1   What can visitors to the University of Florid...   \n",
       "2           2   What are the important deadlines for submitti...   \n",
       "3           3   What are the different ways students, faculty...   \n",
       "4           4   What can visitors expect to experience during...   \n",
       "\n",
       "                                            contexts  \\\n",
       "0  ['://www.counseling.ufl.edu/cwc/) Map (http://...   \n",
       "1  [' information sessions and walking tours of c...   \n",
       "2  ['AUG 8\\n\\nNOV 1\\n\\nNOV 15\\n\\nDEC 1\\n\\nFEB 23\\...   \n",
       "3  ['ufl.edu/services/gator-1-card/)\\n\\nAll enrol...   \n",
       "4  [' information sessions and walking tours of c...   \n",
       "\n",
       "                                        ground_truth evolution_type  \\\n",
       "0  The Emergency Response team coordinates the un...         simple   \n",
       "1  Visitors to the University of Florida can expe...         simple   \n",
       "2  The important deadlines for submitting applica...         simple   \n",
       "3                                                NaN         simple   \n",
       "4  Visitors to the University of Florida can expe...         simple   \n",
       "\n",
       "                                            metadata  episode_done  \n",
       "0  [{'source': 'C:\\\\Users\\\\harsh\\\\Downloads\\\\UF d...          True  \n",
       "1  [{'source': 'C:\\\\Users\\\\harsh\\\\Downloads\\\\UF d...          True  \n",
       "2  [{'source': 'C:\\\\Users\\\\harsh\\\\Downloads\\\\UF d...          True  \n",
       "3  [{'source': 'C:\\\\Users\\\\harsh\\\\Downloads\\\\UF d...          True  \n",
       "4  [{'source': 'C:\\\\Users\\\\harsh\\\\Downloads\\\\UF d...          True  "
      ]
     },
     "execution_count": 97,
     "metadata": {},
     "output_type": "execute_result"
    }
   ],
   "source": [
    "import pandas as pd\n",
    "\n",
    "df = pd.read_csv(\"ground_truth_admissions_v3.csv\")\n",
    "df.head()"
   ]
  },
  {
   "cell_type": "code",
   "execution_count": 98,
   "metadata": {},
   "outputs": [
    {
     "name": "stdout",
     "output_type": "stream",
     "text": [
      "<class 'pandas.core.frame.DataFrame'>\n",
      "RangeIndex: 20 entries, 0 to 19\n",
      "Data columns (total 7 columns):\n",
      " #   Column          Non-Null Count  Dtype \n",
      "---  ------          --------------  ----- \n",
      " 0   Unnamed: 0      20 non-null     int64 \n",
      " 1   question        20 non-null     object\n",
      " 2   contexts        20 non-null     object\n",
      " 3   ground_truth    18 non-null     object\n",
      " 4   evolution_type  20 non-null     object\n",
      " 5   metadata        20 non-null     object\n",
      " 6   episode_done    20 non-null     bool  \n",
      "dtypes: bool(1), int64(1), object(5)\n",
      "memory usage: 1.1+ KB\n"
     ]
    }
   ],
   "source": [
    "df.info()"
   ]
  },
  {
   "cell_type": "markdown",
   "metadata": {},
   "source": [
    "Remove rows with null values and unwanted columns"
   ]
  },
  {
   "cell_type": "code",
   "execution_count": 16,
   "metadata": {},
   "outputs": [
    {
     "name": "stdout",
     "output_type": "stream",
     "text": [
      "<class 'pandas.core.frame.DataFrame'>\n",
      "Index: 18 entries, 0 to 19\n",
      "Data columns (total 6 columns):\n",
      " #   Column          Non-Null Count  Dtype \n",
      "---  ------          --------------  ----- \n",
      " 0   question        18 non-null     object\n",
      " 1   contexts        18 non-null     object\n",
      " 2   ground_truth    18 non-null     object\n",
      " 3   evolution_type  18 non-null     object\n",
      " 4   metadata        18 non-null     object\n",
      " 5   episode_done    18 non-null     bool  \n",
      "dtypes: bool(1), object(5)\n",
      "memory usage: 882.0+ bytes\n"
     ]
    }
   ],
   "source": [
    "df = df.dropna()\n",
    "df = df.drop('Unnamed: 0', axis= 1, inplace=True)\n",
    "df.shape\n",
    "df.info()\n"
   ]
  },
  {
   "cell_type": "markdown",
   "metadata": {},
   "source": [
    "Find and remove duplicate rows"
   ]
  },
  {
   "cell_type": "code",
   "execution_count": 18,
   "metadata": {},
   "outputs": [
    {
     "data": {
      "text/plain": [
       "2"
      ]
     },
     "execution_count": 18,
     "metadata": {},
     "output_type": "execute_result"
    }
   ],
   "source": [
    "df.duplicated().sum()"
   ]
  },
  {
   "cell_type": "code",
   "execution_count": 20,
   "metadata": {},
   "outputs": [
    {
     "data": {
      "text/plain": [
       "0"
      ]
     },
     "execution_count": 20,
     "metadata": {},
     "output_type": "execute_result"
    }
   ],
   "source": [
    "df.drop_duplicates(inplace=True)\n",
    "df.duplicated().sum()"
   ]
  },
  {
   "cell_type": "code",
   "execution_count": 22,
   "metadata": {},
   "outputs": [
    {
     "name": "stdout",
     "output_type": "stream",
     "text": [
      "<class 'pandas.core.frame.DataFrame'>\n",
      "Index: 16 entries, 0 to 19\n",
      "Data columns (total 6 columns):\n",
      " #   Column          Non-Null Count  Dtype \n",
      "---  ------          --------------  ----- \n",
      " 0   question        16 non-null     object\n",
      " 1   contexts        16 non-null     object\n",
      " 2   ground_truth    16 non-null     object\n",
      " 3   evolution_type  16 non-null     object\n",
      " 4   metadata        16 non-null     object\n",
      " 5   episode_done    16 non-null     bool  \n",
      "dtypes: bool(1), object(5)\n",
      "memory usage: 784.0+ bytes\n"
     ]
    },
    {
     "data": {
      "text/plain": [
       "question          15\n",
       "contexts          12\n",
       "ground_truth      16\n",
       "evolution_type     1\n",
       "metadata           7\n",
       "episode_done       1\n",
       "dtype: int64"
      ]
     },
     "execution_count": 22,
     "metadata": {},
     "output_type": "execute_result"
    }
   ],
   "source": [
    "df.info()\n",
    "df.nunique()"
   ]
  },
  {
   "cell_type": "markdown",
   "metadata": {},
   "source": [
    "Find and remove duplicate questions"
   ]
  },
  {
   "cell_type": "code",
   "execution_count": 23,
   "metadata": {},
   "outputs": [
    {
     "data": {
      "text/html": [
       "<div>\n",
       "<style scoped>\n",
       "    .dataframe tbody tr th:only-of-type {\n",
       "        vertical-align: middle;\n",
       "    }\n",
       "\n",
       "    .dataframe tbody tr th {\n",
       "        vertical-align: top;\n",
       "    }\n",
       "\n",
       "    .dataframe thead th {\n",
       "        text-align: right;\n",
       "    }\n",
       "</style>\n",
       "<table border=\"1\" class=\"dataframe\">\n",
       "  <thead>\n",
       "    <tr style=\"text-align: right;\">\n",
       "      <th></th>\n",
       "      <th>question</th>\n",
       "      <th>contexts</th>\n",
       "      <th>ground_truth</th>\n",
       "      <th>evolution_type</th>\n",
       "      <th>metadata</th>\n",
       "      <th>episode_done</th>\n",
       "    </tr>\n",
       "  </thead>\n",
       "  <tbody>\n",
       "    <tr>\n",
       "      <th>10</th>\n",
       "      <td>What are some facilities and services offered...</td>\n",
       "      <td>[\"Student Life\\n\\nSTUDENT LIFE Student Service...</td>\n",
       "      <td>The Division of Student Life at the University...</td>\n",
       "      <td>simple</td>\n",
       "      <td>[{'source': 'C:\\\\Users\\\\harsh\\\\Downloads\\\\UF d...</td>\n",
       "      <td>True</td>\n",
       "    </tr>\n",
       "    <tr>\n",
       "      <th>11</th>\n",
       "      <td>What are some facilities and services offered...</td>\n",
       "      <td>[\"Student Life\\n\\nSTUDENT LIFE Student Service...</td>\n",
       "      <td>The Division of Student Life at the University...</td>\n",
       "      <td>simple</td>\n",
       "      <td>[{'source': 'C:\\\\Users\\\\harsh\\\\Downloads\\\\UF d...</td>\n",
       "      <td>True</td>\n",
       "    </tr>\n",
       "  </tbody>\n",
       "</table>\n",
       "</div>"
      ],
      "text/plain": [
       "                                             question  \\\n",
       "10   What are some facilities and services offered...   \n",
       "11   What are some facilities and services offered...   \n",
       "\n",
       "                                             contexts  \\\n",
       "10  [\"Student Life\\n\\nSTUDENT LIFE Student Service...   \n",
       "11  [\"Student Life\\n\\nSTUDENT LIFE Student Service...   \n",
       "\n",
       "                                         ground_truth evolution_type  \\\n",
       "10  The Division of Student Life at the University...         simple   \n",
       "11  The Division of Student Life at the University...         simple   \n",
       "\n",
       "                                             metadata  episode_done  \n",
       "10  [{'source': 'C:\\\\Users\\\\harsh\\\\Downloads\\\\UF d...          True  \n",
       "11  [{'source': 'C:\\\\Users\\\\harsh\\\\Downloads\\\\UF d...          True  "
      ]
     },
     "execution_count": 23,
     "metadata": {},
     "output_type": "execute_result"
    }
   ],
   "source": [
    "df[df.duplicated('question', keep=False) == True]"
   ]
  },
  {
   "cell_type": "code",
   "execution_count": 33,
   "metadata": {},
   "outputs": [
    {
     "data": {
      "text/plain": [
       "question          False\n",
       "contexts          False\n",
       "ground_truth       True\n",
       "evolution_type    False\n",
       "metadata          False\n",
       "episode_done      False\n",
       "dtype: bool"
      ]
     },
     "execution_count": 33,
     "metadata": {},
     "output_type": "execute_result"
    }
   ],
   "source": [
    "row10 = df.iloc[9]\n",
    "row11 = df.iloc[10]\n",
    "\n",
    "unique_columns = row10 != row11\n",
    "unique_columns"
   ]
  },
  {
   "cell_type": "code",
   "execution_count": 35,
   "metadata": {},
   "outputs": [
    {
     "name": "stdout",
     "output_type": "stream",
     "text": [
      "The Division of Student Life at the University of Florida offers various facilities and services to students, including the Career Connections Center, Center for Inclusion & Multicultural Engagement, Center for New Student & Family Programs, Counseling and Wellness Center, David and Wanda Brown Center for Leadership & Service, Dean of Students Ofﬁce, Disability Resource Center, GatorWell Health Promotion Services, Housing and Residence Life, J. Wayne Reitz Union, Machen Florida Opportunity Scholars Program, Off Campus Life, Recreational Sports, Student Activities & Involvement, Student Government Advising & Operations, Sorority & Fraternity Life, and Student Legal Services. Additionally, there are various campus facilities such as Newell Hall, Reitz Student Union, Ben Hill Grifﬁn Stadium, Florida Museum of Natural History, Harn Museum of Art, and O’Connell Center.\n",
      "The Division of Student Life at the University of Florida offers various facilities and services to students including, but not limited to, the Career Connections Center, Center for Inclusion & Multicultural Engagement, Center for New Student & Family Programs, Counseling and Wellness Center, David and Wanda Brown Center for Leadership & Service, Dean of Students Ofﬁce, Disability Resource Center, GatorWell Health Promotion Services, Housing and Residence Life, J. Wayne Reitz Union, Machen Florida Opportunity Scholars Program, Off Campus Life, Recreational Sports, Student Activities & Involvement, Student Government Advising & Operations, Sorority & Fraternity Life, and Student Legal Services. Additionally, the division oversees facilities such as Newell Hall, Reitz Student Union, Ben Hill Grifﬁn Stadium, Florida Museum of Natural History, Harn Museum of Art, and O’Connell Center.\n",
      "False\n"
     ]
    }
   ],
   "source": [
    "print(row10['ground_truth'])\n",
    "print(row11['ground_truth'])\n",
    "print(row10['ground_truth'] == row11['ground_truth'])\n"
   ]
  },
  {
   "cell_type": "code",
   "execution_count": 36,
   "metadata": {},
   "outputs": [
    {
     "data": {
      "text/html": [
       "<div>\n",
       "<style scoped>\n",
       "    .dataframe tbody tr th:only-of-type {\n",
       "        vertical-align: middle;\n",
       "    }\n",
       "\n",
       "    .dataframe tbody tr th {\n",
       "        vertical-align: top;\n",
       "    }\n",
       "\n",
       "    .dataframe thead th {\n",
       "        text-align: right;\n",
       "    }\n",
       "</style>\n",
       "<table border=\"1\" class=\"dataframe\">\n",
       "  <thead>\n",
       "    <tr style=\"text-align: right;\">\n",
       "      <th></th>\n",
       "      <th>question</th>\n",
       "      <th>contexts</th>\n",
       "      <th>ground_truth</th>\n",
       "      <th>evolution_type</th>\n",
       "      <th>metadata</th>\n",
       "      <th>episode_done</th>\n",
       "    </tr>\n",
       "  </thead>\n",
       "  <tbody>\n",
       "  </tbody>\n",
       "</table>\n",
       "</div>"
      ],
      "text/plain": [
       "Empty DataFrame\n",
       "Columns: [question, contexts, ground_truth, evolution_type, metadata, episode_done]\n",
       "Index: []"
      ]
     },
     "execution_count": 36,
     "metadata": {},
     "output_type": "execute_result"
    }
   ],
   "source": [
    "df.drop(index=df.iloc[10].name, inplace=True)\n",
    "df[df.duplicated('question', keep=False) == True]"
   ]
  },
  {
   "cell_type": "code",
   "execution_count": 37,
   "metadata": {},
   "outputs": [
    {
     "name": "stdout",
     "output_type": "stream",
     "text": [
      "<class 'pandas.core.frame.DataFrame'>\n",
      "Index: 15 entries, 0 to 19\n",
      "Data columns (total 6 columns):\n",
      " #   Column          Non-Null Count  Dtype \n",
      "---  ------          --------------  ----- \n",
      " 0   question        15 non-null     object\n",
      " 1   contexts        15 non-null     object\n",
      " 2   ground_truth    15 non-null     object\n",
      " 3   evolution_type  15 non-null     object\n",
      " 4   metadata        15 non-null     object\n",
      " 5   episode_done    15 non-null     bool  \n",
      "dtypes: bool(1), object(5)\n",
      "memory usage: 735.0+ bytes\n"
     ]
    }
   ],
   "source": [
    "df.info()"
   ]
  },
  {
   "cell_type": "markdown",
   "metadata": {},
   "source": [
    "Manually review questions and answers and remove rows which do not seem to have a good question or answer"
   ]
  },
  {
   "cell_type": "code",
   "execution_count": 93,
   "metadata": {},
   "outputs": [
    {
     "name": "stdout",
     "output_type": "stream",
     "text": [
      "Question: How can users find the available financial aid item types disbursed out of a specific department in the Student Information System?\n",
      " Answer: Users can navigate to the Item Types report in the Student Information System by following these steps: 1. Click the NavBar icon 2. Click Main Menu 3. Click Enterprise Reporting 4. Click Access Reporting 5. Click Public Folder 6. Click Student Information 7. Click Student Financials 8. Click Reference 9. Click Item Types. Then, they need to search for the report using the DeptFlex (full or partial) in the ChartField Starts with the value: textbox and click Finish. This will display a list of the available scholarships available for awarding by the specific department.\n"
     ]
    }
   ],
   "source": [
    "i=5\n",
    "print(f\"Question: {df.iloc[i]['question']}\\n Answer: {df.iloc[i]['ground_truth']}\")\n",
    "# df = df.drop(index=df.iloc[i].name)"
   ]
  },
  {
   "cell_type": "code",
   "execution_count": 94,
   "metadata": {},
   "outputs": [
    {
     "name": "stdout",
     "output_type": "stream",
     "text": [
      "<class 'pandas.core.frame.DataFrame'>\n",
      "Index: 12 entries, 0 to 19\n",
      "Data columns (total 6 columns):\n",
      " #   Column          Non-Null Count  Dtype \n",
      "---  ------          --------------  ----- \n",
      " 0   question        12 non-null     object\n",
      " 1   contexts        12 non-null     object\n",
      " 2   ground_truth    12 non-null     object\n",
      " 3   evolution_type  12 non-null     object\n",
      " 4   metadata        12 non-null     object\n",
      " 5   episode_done    12 non-null     bool  \n",
      "dtypes: bool(1), object(5)\n",
      "memory usage: 588.0+ bytes\n"
     ]
    }
   ],
   "source": [
    "df.info()"
   ]
  },
  {
   "cell_type": "markdown",
   "metadata": {},
   "source": [
    "Clean and format the questions"
   ]
  },
  {
   "cell_type": "code",
   "execution_count": 95,
   "metadata": {},
   "outputs": [
    {
     "name": "stdout",
     "output_type": "stream",
     "text": [
      "Who coordinates the university's response to student emergencies and crises?\n",
      "What can visitors to the University of Florida expect to experience during a walking tour of the campus?\n",
      "What are the important deadlines for submitting application materials to the University of Florida (UF) Admissions for prospective freshmen in the 2023-24 academic year?\n",
      "What is the deadline for prospective freshmen to submit their official transcripts in order to finalize their enrollment at UF for the 2023-24 academic year?\n",
      "How can parents apply for educational loans for their dependent undergraduate students at UF through the Federal Direct PLUS loan program?\n",
      "How can users find the available financial aid item types disbursed out of a specific department in the Student Information System?\n",
      "What are some facilities and services offered by the Division of Student Life at the University of Florida for students?\n",
      "What services does the University of Florida Police Department (UFPD) provide to ensure campus safety and security?\n",
      "How does establishing a new center or institute at University of Florida contribute to public service and what activities are planned for this purpose?\n",
      "What program offers free pre-K education for all Florida 4-year-olds regardless of income?\n",
      "What role do information sessions play in campus visits at the University of Florida?\n",
      "What resources does the UF Libraries offer for students in terms of study spaces, research assistance, equipment rentals, interlibrary loan, free printing, legal services, notary services, passport services, and community engagement?\n"
     ]
    }
   ],
   "source": [
    "df[\"question\"] = df[\"question\"].apply(lambda q: q.replace('\"', '').strip())\n",
    "\n",
    "for question in df[\"question\"]:\n",
    "    print(question)"
   ]
  },
  {
   "cell_type": "markdown",
   "metadata": {},
   "source": [
    "Save the dataframe to JSON"
   ]
  },
  {
   "cell_type": "code",
   "execution_count": 96,
   "metadata": {},
   "outputs": [],
   "source": [
    "df.to_json(\"ground_truth_final.json\")"
   ]
  }
 ],
 "metadata": {
  "kernelspec": {
   "display_name": ".venv",
   "language": "python",
   "name": "python3"
  },
  "language_info": {
   "codemirror_mode": {
    "name": "ipython",
    "version": 3
   },
   "file_extension": ".py",
   "mimetype": "text/x-python",
   "name": "python",
   "nbconvert_exporter": "python",
   "pygments_lexer": "ipython3",
   "version": "3.12.3"
  }
 },
 "nbformat": 4,
 "nbformat_minor": 2
}
